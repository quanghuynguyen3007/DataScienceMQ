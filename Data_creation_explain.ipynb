{
 "cells": [
  {
   "cell_type": "markdown",
   "metadata": {},
   "source": [
    "# Database creation"
   ]
  },
  {
   "cell_type": "markdown",
   "metadata": {},
   "source": [
    "The data used in this project can be created by running two files: getMatchID.py and createData.py, respectively. However, Riot's API only allows a limit of 300 requests for every 2 minutes. So, re-creating the dataset that has been used in this project will take many days! \n",
    "\n",
    "That method is not recommended. Instead, this Notebook was created to help readers better understand how we collected and process data, as well as provide a simpler, more efficient way of checking the original method."
   ]
  },
  {
   "cell_type": "code",
   "execution_count": 11,
   "metadata": {},
   "outputs": [],
   "source": [
    "import pandas as pd\n",
    "import requests\n",
    "import json"
   ]
  },
  {
   "cell_type": "markdown",
   "metadata": {},
   "source": [
    "By running the getMatchId.py in the folder. We can generate a text file contain numbers of match_id that we can use to call out the data from Riot's api. For testing purposes, we only take one match in the list of over 150,000 matches."
   ]
  },
  {
   "cell_type": "code",
   "execution_count": 3,
   "metadata": {},
   "outputs": [
    {
     "name": "stdout",
     "output_type": "stream",
     "text": [
      "4241678498\n",
      "\n"
     ]
    }
   ],
   "source": [
    "f = open('Data/matchids.txt')\n",
    "for line in f:\n",
    "    print(line)\n",
    "    break"
   ]
  },
  {
   "cell_type": "code",
   "execution_count": null,
   "metadata": {},
   "outputs": [],
   "source": [
    "key = 'RGAPI-2e386383-b1bc-4f52-88ea-51f69387012e'"
   ]
  },
  {
   "cell_type": "markdown",
   "metadata": {},
   "source": [
    "Next, we need the key provided by Riot to be able to use their APIs. Please note that each key is only valid for 24 hours. Therefore, you need to create an account and generate a new key by accessing the link below:\n",
    "https://developer.riotgames.com\n",
    "The above key is no longer valid at the present time."
   ]
  },
  {
   "cell_type": "markdown",
   "metadata": {},
   "source": [
    "Unfortunately, the Riot does not allow us to access a request multiple matches at one time. Instead, we can only retrieve the details of one match each time we request to the API. Therefore, the only way to build a database is to repeatedly access the same API using different match_id. This makes database creation extremely time-consuming\n",
    "\n",
    "\n",
    "With match_id and key ready. Let's try using Riot's api."
   ]
  },
  {
   "cell_type": "code",
   "execution_count": 10,
   "metadata": {},
   "outputs": [
    {
     "name": "stdout",
     "output_type": "stream",
     "text": [
      "{'gameId': 4241678498, 'platformId': 'EUW1', 'gameCreation': 1571779464690, 'gameDuration': 1216, 'queueId': 420, 'mapId': 11, 'seasonId': 13, 'gameVersion': '9.20.292.2452', 'gameMode': 'CLASSIC', 'gameType': 'MATCHED_GAME', 'teams': [{'teamId': 100, 'win': 'Fail', 'firstBlood': False, 'firstTower': False, 'firstInhibitor': False, 'firstBaron': False, 'firstDragon': False, 'firstRiftHerald': False, 'towerKills': 0, 'inhibitorKills': 0, 'baronKills': 0, 'dragonKills': 0, 'vilemawKills': 0, 'riftHeraldKills': 0, 'dominionVictoryScore': 0, 'bans': [{'championId': 119, 'pickTurn': 1}, {'championId': 90, 'pickTurn': 2}, {'championId': 25, 'pickTurn': 3}, {'championId': 111, 'pickTurn': 4}, {'championId': 23, 'pickTurn': 5}]}, {'teamId': 200, 'win': 'Win', 'firstBlood': True, 'firstTower': True, 'firstInhibitor': False, 'firstBaron': False, 'firstDragon': True, 'firstRiftHerald': True, 'towerKills': 7, 'inhibitorKills': 0, 'baronKills': 0, 'dragonKills': 2, 'vilemawKills': 0, 'riftHeraldKills': 1, 'dominionVictoryScore': 0, 'bans': [{'championId': 53, 'pickTurn': 6}, {'championId': 84, 'pickTurn': 7}, {'championId': 555, 'pickTurn': 8}, {'championId': 54, 'pickTurn': 9}, {'championId': 35, 'pickTurn': 10}]}], 'participants': [{'participantId': 1, 'teamId': 100, 'championId': 157, 'spell1Id': 4, 'spell2Id': 14, 'stats': {'participantId': 1, 'win': False, 'item0': 1055, 'item1': 2031, 'item2': 1038, 'item3': 3006, 'item4': 1018, 'item5': 3087, 'item6': 3340, 'kills': 5, 'deaths': 7, 'assists': 1, 'largestKillingSpree': 2, 'largestMultiKill': 1, 'killingSprees': 1, 'longestTimeSpentLiving': 447, 'doubleKills': 0, 'tripleKills': 0, 'quadraKills': 0, 'pentaKills': 0, 'unrealKills': 0, 'totalDamageDealt': 73777, 'magicDamageDealt': 18993, 'physicalDamageDealt': 52879, 'trueDamageDealt': 1904, 'largestCriticalStrike': 318, 'totalDamageDealtToChampions': 12246, 'magicDamageDealtToChampions': 2376, 'physicalDamageDealtToChampions': 8582, 'trueDamageDealtToChampions': 1288, 'totalHeal': 1356, 'totalUnitsHealed': 1, 'damageSelfMitigated': 11032, 'damageDealtToObjectives': 0, 'damageDealtToTurrets': 0, 'visionScore': 11, 'timeCCingOthers': 17, 'totalDamageTaken': 16053, 'magicalDamageTaken': 3909, 'physicalDamageTaken': 10457, 'trueDamageTaken': 1686, 'goldEarned': 7392, 'goldSpent': 7125, 'turretKills': 0, 'inhibitorKills': 0, 'totalMinionsKilled': 113, 'neutralMinionsKilled': 5, 'neutralMinionsKilledTeamJungle': 5, 'neutralMinionsKilledEnemyJungle': 0, 'totalTimeCrowdControlDealt': 116, 'champLevel': 12, 'visionWardsBoughtInGame': 3, 'sightWardsBoughtInGame': 0, 'wardsPlaced': 7, 'wardsKilled': 2, 'firstBloodKill': False, 'firstBloodAssist': False, 'firstTowerKill': False, 'firstTowerAssist': False, 'combatPlayerScore': 0, 'objectivePlayerScore': 0, 'totalPlayerScore': 0, 'totalScoreRank': 0, 'playerScore0': 0, 'playerScore1': 0, 'playerScore2': 0, 'playerScore3': 0, 'playerScore4': 0, 'playerScore5': 0, 'playerScore6': 0, 'playerScore7': 0, 'playerScore8': 0, 'playerScore9': 0, 'perk0': 8010, 'perk0Var1': 618, 'perk0Var2': 228, 'perk0Var3': 702, 'perk1': 9111, 'perk1Var1': 403, 'perk1Var2': 120, 'perk1Var3': 0, 'perk2': 9104, 'perk2Var1': 14, 'perk2Var2': 20, 'perk2Var3': 0, 'perk3': 8299, 'perk3Var1': 236, 'perk3Var2': 0, 'perk3Var3': 0, 'perk4': 8139, 'perk4Var1': 427, 'perk4Var2': 0, 'perk4Var3': 0, 'perk5': 8106, 'perk5Var1': 3, 'perk5Var2': 0, 'perk5Var3': 0, 'perkPrimaryStyle': 8000, 'perkSubStyle': 8100, 'statPerk0': 5005, 'statPerk1': 5003, 'statPerk2': 5001}, 'timeline': {'participantId': 1, 'creepsPerMinDeltas': {'10-20': 6.199999999999999, '0-10': 5.1}, 'xpPerMinDeltas': {'10-20': 518.5, '0-10': 426}, 'goldPerMinDeltas': {'10-20': 412.5, '0-10': 273.3}, 'damageTakenPerMinDeltas': {'10-20': 1116, '0-10': 489.29999999999995}, 'role': 'DUO', 'lane': 'MIDDLE'}}, {'participantId': 2, 'teamId': 100, 'championId': 80, 'spell1Id': 11, 'spell2Id': 4, 'stats': {'participantId': 2, 'win': False, 'item0': 1400, 'item1': 2031, 'item2': 1001, 'item3': 2055, 'item4': 3134, 'item5': 3133, 'item6': 3364, 'kills': 1, 'deaths': 3, 'assists': 1, 'largestKillingSpree': 0, 'largestMultiKill': 1, 'killingSprees': 0, 'longestTimeSpentLiving': 681, 'doubleKills': 0, 'tripleKills': 0, 'quadraKills': 0, 'pentaKills': 0, 'unrealKills': 0, 'totalDamageDealt': 87571, 'magicDamageDealt': 7153, 'physicalDamageDealt': 75883, 'trueDamageDealt': 4533, 'largestCriticalStrike': 0, 'totalDamageDealtToChampions': 2877, 'magicDamageDealtToChampions': 425, 'physicalDamageDealtToChampions': 2255, 'trueDamageDealtToChampions': 195, 'totalHeal': 4678, 'totalUnitsHealed': 1, 'damageSelfMitigated': 7429, 'damageDealtToObjectives': 3360, 'damageDealtToTurrets': 0, 'visionScore': 2, 'timeCCingOthers': 6, 'totalDamageTaken': 14473, 'magicalDamageTaken': 2959, 'physicalDamageTaken': 11143, 'trueDamageTaken': 370, 'goldEarned': 5992, 'goldSpent': 5350, 'turretKills': 0, 'inhibitorKills': 0, 'totalMinionsKilled': 20, 'neutralMinionsKilled': 86, 'neutralMinionsKilledTeamJungle': 70, 'neutralMinionsKilledEnemyJungle': 0, 'totalTimeCrowdControlDealt': 244, 'champLevel': 11, 'visionWardsBoughtInGame': 1, 'sightWardsBoughtInGame': 0, 'wardsPlaced': 1, 'wardsKilled': 0, 'firstBloodKill': False, 'firstBloodAssist': False, 'firstTowerKill': False, 'firstTowerAssist': False, 'combatPlayerScore': 0, 'objectivePlayerScore': 0, 'totalPlayerScore': 0, 'totalScoreRank': 0, 'playerScore0': 0, 'playerScore1': 0, 'playerScore2': 0, 'playerScore3': 0, 'playerScore4': 0, 'playerScore5': 0, 'playerScore6': 0, 'playerScore7': 0, 'playerScore8': 0, 'playerScore9': 0, 'perk0': 8010, 'perk0Var1': 11, 'perk0Var2': 6, 'perk0Var3': 17, 'perk1': 9111, 'perk1Var1': 0, 'perk1Var2': 40, 'perk1Var3': 0, 'perk2': 9104, 'perk2Var1': 0, 'perk2Var2': 0, 'perk2Var3': 0, 'perk3': 8014, 'perk3Var1': 24, 'perk3Var2': 0, 'perk3Var3': 0, 'perk4': 8236, 'perk4Var1': 14, 'perk4Var2': 0, 'perk4Var3': 0, 'perk5': 8233, 'perk5Var1': 12, 'perk5Var2': 40, 'perk5Var3': 0, 'perkPrimaryStyle': 8000, 'perkSubStyle': 8200, 'statPerk0': 5005, 'statPerk1': 5008, 'statPerk2': 5002}, 'timeline': {'participantId': 2, 'creepsPerMinDeltas': {'10-20': 1.9, '0-10': 0.1}, 'xpPerMinDeltas': {'10-20': 518.3, '0-10': 239.6}, 'goldPerMinDeltas': {'10-20': 340.9, '0-10': 204.89999999999998}, 'csDiffPerMinDeltas': {'10-20': 1.5, '0-10': -0.1}, 'xpDiffPerMinDeltas': {'10-20': 20.799999999999983, '0-10': -113.30000000000001}, 'damageTakenPerMinDeltas': {'10-20': 771.7, '0-10': 597.8}, 'damageTakenDiffPerMinDeltas': {'10-20': -314.5, '0-10': -148.8}, 'role': 'NONE', 'lane': 'JUNGLE'}}, {'participantId': 3, 'teamId': 100, 'championId': 24, 'spell1Id': 4, 'spell2Id': 12, 'stats': {'participantId': 3, 'win': False, 'item0': 2033, 'item1': 3078, 'item2': 0, 'item3': 3047, 'item4': 0, 'item5': 0, 'item6': 3340, 'kills': 1, 'deaths': 5, 'assists': 1, 'largestKillingSpree': 0, 'largestMultiKill': 1, 'killingSprees': 0, 'longestTimeSpentLiving': 279, 'doubleKills': 0, 'tripleKills': 0, 'quadraKills': 0, 'pentaKills': 0, 'unrealKills': 0, 'totalDamageDealt': 60161, 'magicDamageDealt': 13556, 'physicalDamageDealt': 41940, 'trueDamageDealt': 4664, 'largestCriticalStrike': 0, 'totalDamageDealtToChampions': 4592, 'magicDamageDealtToChampions': 1329, 'physicalDamageDealtToChampions': 3088, 'trueDamageDealtToChampions': 174, 'totalHeal': 303, 'totalUnitsHealed': 1, 'damageSelfMitigated': 5628, 'damageDealtToObjectives': 2175, 'damageDealtToTurrets': 824, 'visionScore': 8, 'timeCCingOthers': 7, 'totalDamageTaken': 10985, 'magicalDamageTaken': 2186, 'physicalDamageTaken': 7217, 'trueDamageTaken': 1582, 'goldEarned': 5961, 'goldSpent': 5333, 'turretKills': 0, 'inhibitorKills': 0, 'totalMinionsKilled': 129, 'neutralMinionsKilled': 0, 'neutralMinionsKilledTeamJungle': 0, 'neutralMinionsKilledEnemyJungle': 0, 'totalTimeCrowdControlDealt': 53, 'champLevel': 11, 'visionWardsBoughtInGame': 0, 'sightWardsBoughtInGame': 0, 'wardsPlaced': 5, 'wardsKilled': 1, 'firstBloodKill': False, 'firstBloodAssist': False, 'firstTowerKill': False, 'firstTowerAssist': False, 'combatPlayerScore': 0, 'objectivePlayerScore': 0, 'totalPlayerScore': 0, 'totalScoreRank': 0, 'playerScore0': 0, 'playerScore1': 0, 'playerScore2': 0, 'playerScore3': 0, 'playerScore4': 0, 'playerScore5': 0, 'playerScore6': 0, 'playerScore7': 0, 'playerScore8': 0, 'playerScore9': 0, 'perk0': 8010, 'perk0Var1': 174, 'perk0Var2': 74, 'perk0Var3': 186, 'perk1': 9111, 'perk1Var1': 159, 'perk1Var2': 40, 'perk1Var3': 0, 'perk2': 9105, 'perk2Var1': 0, 'perk2Var2': 0, 'perk2Var3': 0, 'perk3': 8014, 'perk3Var1': 66, 'perk3Var2': 0, 'perk3Var3': 0, 'perk4': 8446, 'perk4Var1': 341, 'perk4Var2': 0, 'perk4Var3': 0, 'perk5': 8473, 'perk5Var1': 262, 'perk5Var2': 0, 'perk5Var3': 0, 'perkPrimaryStyle': 8000, 'perkSubStyle': 8400, 'statPerk0': 5005, 'statPerk1': 5008, 'statPerk2': 5002}, 'timeline': {'participantId': 3, 'creepsPerMinDeltas': {'10-20': 5.800000000000001, '0-10': 7.1}, 'xpPerMinDeltas': {'10-20': 386, '0-10': 432.7}, 'goldPerMinDeltas': {'10-20': 255.89999999999998, '0-10': 286.8}, 'csDiffPerMinDeltas': {'10-20': 0.10000000000000009, '0-10': 0.5000000000000004}, 'xpDiffPerMinDeltas': {'10-20': -116.69999999999999, '0-10': -47.10000000000002}, 'damageTakenPerMinDeltas': {'10-20': 657.0999999999999, '0-10': 441.40000000000003}, 'damageTakenDiffPerMinDeltas': {'10-20': 32.599999999999966, '0-10': 80.30000000000004}, 'role': 'SOLO', 'lane': 'TOP'}}, {'participantId': 4, 'teamId': 100, 'championId': 99, 'spell1Id': 4, 'spell2Id': 14, 'stats': {'participantId': 4, 'win': False, 'item0': 2424, 'item1': 2003, 'item2': 3285, 'item3': 0, 'item4': 3303, 'item5': 1001, 'item6': 3340, 'kills': 2, 'deaths': 6, 'assists': 0, 'largestKillingSpree': 0, 'largestMultiKill': 1, 'killingSprees': 0, 'longestTimeSpentLiving': 527, 'doubleKills': 0, 'tripleKills': 0, 'quadraKills': 0, 'pentaKills': 0, 'unrealKills': 0, 'totalDamageDealt': 15398, 'magicDamageDealt': 13503, 'physicalDamageDealt': 1683, 'trueDamageDealt': 212, 'largestCriticalStrike': 0, 'totalDamageDealtToChampions': 6826, 'magicDamageDealtToChampions': 6491, 'physicalDamageDealtToChampions': 122, 'trueDamageDealtToChampions': 212, 'totalHeal': 0, 'totalUnitsHealed': 0, 'damageSelfMitigated': 2590, 'damageDealtToObjectives': 358, 'damageDealtToTurrets': 358, 'visionScore': 10, 'timeCCingOthers': 34, 'totalDamageTaken': 8478, 'magicalDamageTaken': 3223, 'physicalDamageTaken': 4536, 'trueDamageTaken': 718, 'goldEarned': 4900, 'goldSpent': 4425, 'turretKills': 0, 'inhibitorKills': 0, 'totalMinionsKilled': 11, 'neutralMinionsKilled': 0, 'neutralMinionsKilledTeamJungle': 0, 'neutralMinionsKilledEnemyJungle': 0, 'totalTimeCrowdControlDealt': 87, 'champLevel': 9, 'visionWardsBoughtInGame': 1, 'sightWardsBoughtInGame': 0, 'wardsPlaced': 8, 'wardsKilled': 0, 'firstBloodKill': False, 'firstBloodAssist': False, 'firstTowerKill': False, 'firstTowerAssist': False, 'combatPlayerScore': 0, 'objectivePlayerScore': 0, 'totalPlayerScore': 0, 'totalScoreRank': 0, 'playerScore0': 0, 'playerScore1': 0, 'playerScore2': 0, 'playerScore3': 0, 'playerScore4': 0, 'playerScore5': 0, 'playerScore6': 0, 'playerScore7': 0, 'playerScore8': 0, 'playerScore9': 0, 'perk0': 8229, 'perk0Var1': 847, 'perk0Var2': 0, 'perk0Var3': 0, 'perk1': 8226, 'perk1Var1': 250, 'perk1Var2': 374, 'perk1Var3': 0, 'perk2': 8210, 'perk2Var1': 0, 'perk2Var2': 0, 'perk2Var3': 0, 'perk3': 8237, 'perk3Var1': 346, 'perk3Var2': 0, 'perk3Var3': 0, 'perk4': 8313, 'perk4Var1': 0, 'perk4Var2': 0, 'perk4Var3': 0, 'perk5': 8347, 'perk5Var1': 0, 'perk5Var2': 0, 'perk5Var3': 0, 'perkPrimaryStyle': 8200, 'perkSubStyle': 8300, 'statPerk0': 5007, 'statPerk1': 5008, 'statPerk2': 5001}, 'timeline': {'participantId': 4, 'creepsPerMinDeltas': {'10-20': 0.9, '0-10': 0.2}, 'xpPerMinDeltas': {'10-20': 291.4, '0-10': 273}, 'goldPerMinDeltas': {'10-20': 270, '0-10': 166.3}, 'damageTakenPerMinDeltas': {'10-20': 629.3, '0-10': 218.5}, 'role': 'DUO_SUPPORT', 'lane': 'MIDDLE'}}, {'participantId': 5, 'teamId': 100, 'championId': 51, 'spell1Id': 4, 'spell2Id': 7, 'stats': {'participantId': 5, 'win': False, 'item0': 1055, 'item1': 3031, 'item2': 3006, 'item3': 0, 'item4': 1051, 'item5': 0, 'item6': 3340, 'kills': 0, 'deaths': 6, 'assists': 2, 'largestKillingSpree': 0, 'largestMultiKill': 0, 'killingSprees': 0, 'longestTimeSpentLiving': 523, 'doubleKills': 0, 'tripleKills': 0, 'quadraKills': 0, 'pentaKills': 0, 'unrealKills': 0, 'totalDamageDealt': 68071, 'magicDamageDealt': 378, 'physicalDamageDealt': 61457, 'trueDamageDealt': 6235, 'largestCriticalStrike': 664, 'totalDamageDealtToChampions': 2909, 'magicDamageDealtToChampions': 308, 'physicalDamageDealtToChampions': 2600, 'trueDamageDealtToChampions': 0, 'totalHeal': 1343, 'totalUnitsHealed': 2, 'damageSelfMitigated': 3143, 'damageDealtToObjectives': 2827, 'damageDealtToTurrets': 1164, 'visionScore': 14, 'timeCCingOthers': 11, 'totalDamageTaken': 10482, 'magicalDamageTaken': 4070, 'physicalDamageTaken': 6032, 'trueDamageTaken': 380, 'goldEarned': 5923, 'goldSpent': 5175, 'turretKills': 0, 'inhibitorKills': 0, 'totalMinionsKilled': 128, 'neutralMinionsKilled': 3, 'neutralMinionsKilledTeamJungle': 1, 'neutralMinionsKilledEnemyJungle': 0, 'totalTimeCrowdControlDealt': 26, 'champLevel': 10, 'visionWardsBoughtInGame': 1, 'sightWardsBoughtInGame': 0, 'wardsPlaced': 6, 'wardsKilled': 5, 'firstBloodKill': False, 'firstBloodAssist': False, 'firstTowerKill': False, 'firstTowerAssist': False, 'combatPlayerScore': 0, 'objectivePlayerScore': 0, 'totalPlayerScore': 0, 'totalScoreRank': 0, 'playerScore0': 0, 'playerScore1': 0, 'playerScore2': 0, 'playerScore3': 0, 'playerScore4': 0, 'playerScore5': 0, 'playerScore6': 0, 'playerScore7': 0, 'playerScore8': 0, 'playerScore9': 0, 'perk0': 8021, 'perk0Var1': 394, 'perk0Var2': 0, 'perk0Var3': 0, 'perk1': 9111, 'perk1Var1': 140, 'perk1Var2': 40, 'perk1Var3': 0, 'perk2': 9103, 'perk2Var1': 0, 'perk2Var2': 0, 'perk2Var3': 0, 'perk3': 8014, 'perk3Var1': 36, 'perk3Var2': 0, 'perk3Var3': 0, 'perk4': 8345, 'perk4Var1': 3, 'perk4Var2': 0, 'perk4Var3': 0, 'perk5': 8304, 'perk5Var1': 11, 'perk5Var2': 1, 'perk5Var3': 5, 'perkPrimaryStyle': 8000, 'perkSubStyle': 8300, 'statPerk0': 5005, 'statPerk1': 5008, 'statPerk2': 5002}, 'timeline': {'participantId': 5, 'creepsPerMinDeltas': {'10-20': 5.6, '0-10': 7.2}, 'xpPerMinDeltas': {'10-20': 350.5, '0-10': 299.5}, 'goldPerMinDeltas': {'10-20': 285.6, '0-10': 253.3}, 'damageTakenPerMinDeltas': {'10-20': 823.4000000000001, '0-10': 224.8}, 'role': 'DUO', 'lane': 'MIDDLE'}}, {'participantId': 6, 'teamId': 200, 'championId': 10, 'spell1Id': 4, 'spell2Id': 12, 'stats': {'participantId': 6, 'win': True, 'item0': 2033, 'item1': 3146, 'item2': 2055, 'item3': 3006, 'item4': 3115, 'item5': 2004, 'item6': 3363, 'kills': 4, 'deaths': 4, 'assists': 5, 'largestKillingSpree': 2, 'largestMultiKill': 1, 'killingSprees': 1, 'longestTimeSpentLiving': 305, 'doubleKills': 0, 'tripleKills': 0, 'quadraKills': 0, 'pentaKills': 0, 'unrealKills': 0, 'totalDamageDealt': 89690, 'magicDamageDealt': 53887, 'physicalDamageDealt': 29637, 'trueDamageDealt': 6165, 'largestCriticalStrike': 0, 'totalDamageDealtToChampions': 10075, 'magicDamageDealtToChampions': 6165, 'physicalDamageDealtToChampions': 3895, 'trueDamageDealtToChampions': 15, 'totalHeal': 4829, 'totalUnitsHealed': 5, 'damageSelfMitigated': 5148, 'damageDealtToObjectives': 7276, 'damageDealtToTurrets': 4583, 'visionScore': 16, 'timeCCingOthers': 7, 'totalDamageTaken': 12036, 'magicalDamageTaken': 1603, 'physicalDamageTaken': 9532, 'trueDamageTaken': 900, 'goldEarned': 9576, 'goldSpent': 7850, 'turretKills': 4, 'inhibitorKills': 0, 'totalMinionsKilled': 148, 'neutralMinionsKilled': 16, 'neutralMinionsKilledTeamJungle': 4, 'neutralMinionsKilledEnemyJungle': 4, 'totalTimeCrowdControlDealt': 175, 'champLevel': 13, 'visionWardsBoughtInGame': 3, 'sightWardsBoughtInGame': 0, 'wardsPlaced': 9, 'wardsKilled': 3, 'firstBloodKill': False, 'firstBloodAssist': False, 'firstTowerKill': False, 'firstTowerAssist': False, 'combatPlayerScore': 0, 'objectivePlayerScore': 0, 'totalPlayerScore': 0, 'totalScoreRank': 0, 'playerScore0': 0, 'playerScore1': 0, 'playerScore2': 0, 'playerScore3': 0, 'playerScore4': 0, 'playerScore5': 0, 'playerScore6': 0, 'playerScore7': 0, 'playerScore8': 0, 'playerScore9': 0, 'perk0': 8359, 'perk0Var1': 590, 'perk0Var2': 14, 'perk0Var3': 0, 'perk1': 8304, 'perk1Var1': 10, 'perk1Var2': 3, 'perk1Var3': 0, 'perk2': 8345, 'perk2Var1': 3, 'perk2Var2': 0, 'perk2Var3': 0, 'perk3': 8352, 'perk3Var1': 203, 'perk3Var2': 872, 'perk3Var3': 638, 'perk4': 8226, 'perk4Var1': 250, 'perk4Var2': 622, 'perk4Var3': 0, 'perk5': 8210, 'perk5Var1': 0, 'perk5Var2': 0, 'perk5Var3': 0, 'perkPrimaryStyle': 8300, 'perkSubStyle': 8200, 'statPerk0': 5005, 'statPerk1': 5008, 'statPerk2': 5002}, 'timeline': {'participantId': 6, 'creepsPerMinDeltas': {'10-20': 7, '0-10': 7.800000000000001}, 'xpPerMinDeltas': {'10-20': 610.3, '0-10': 445.9}, 'goldPerMinDeltas': {'10-20': 526.3, '0-10': 348.8}, 'damageTakenPerMinDeltas': {'10-20': 801.3, '0-10': 381.4}, 'role': 'SOLO', 'lane': 'MIDDLE'}}, {'participantId': 7, 'teamId': 200, 'championId': 86, 'spell1Id': 4, 'spell2Id': 14, 'stats': {'participantId': 7, 'win': True, 'item0': 3078, 'item1': 1055, 'item2': 3047, 'item3': 3046, 'item4': 0, 'item5': 0, 'item6': 3340, 'kills': 6, 'deaths': 2, 'assists': 3, 'largestKillingSpree': 5, 'largestMultiKill': 1, 'killingSprees': 1, 'longestTimeSpentLiving': 380, 'doubleKills': 0, 'tripleKills': 0, 'quadraKills': 0, 'pentaKills': 0, 'unrealKills': 0, 'totalDamageDealt': 88990, 'magicDamageDealt': 0, 'physicalDamageDealt': 85863, 'trueDamageDealt': 3127, 'largestCriticalStrike': 602, 'totalDamageDealtToChampions': 11716, 'magicDamageDealtToChampions': 0, 'physicalDamageDealtToChampions': 8745, 'trueDamageDealtToChampions': 2971, 'totalHeal': 1178, 'totalUnitsHealed': 1, 'damageSelfMitigated': 12046, 'damageDealtToObjectives': 8563, 'damageDealtToTurrets': 8563, 'visionScore': 19, 'timeCCingOthers': 24, 'totalDamageTaken': 9879, 'magicalDamageTaken': 1698, 'physicalDamageTaken': 7806, 'trueDamageTaken': 375, 'goldEarned': 9971, 'goldSpent': 8233, 'turretKills': 2, 'inhibitorKills': 0, 'totalMinionsKilled': 123, 'neutralMinionsKilled': 4, 'neutralMinionsKilledTeamJungle': 0, 'neutralMinionsKilledEnemyJungle': 4, 'totalTimeCrowdControlDealt': 54, 'champLevel': 12, 'visionWardsBoughtInGame': 4, 'sightWardsBoughtInGame': 0, 'wardsPlaced': 10, 'wardsKilled': 3, 'firstBloodKill': False, 'firstBloodAssist': False, 'firstTowerKill': True, 'firstTowerAssist': False, 'combatPlayerScore': 0, 'objectivePlayerScore': 0, 'totalPlayerScore': 0, 'totalScoreRank': 0, 'playerScore0': 0, 'playerScore1': 0, 'playerScore2': 0, 'playerScore3': 0, 'playerScore4': 0, 'playerScore5': 0, 'playerScore6': 0, 'playerScore7': 0, 'playerScore8': 0, 'playerScore9': 0, 'perk0': 8010, 'perk0Var1': 501, 'perk0Var2': 183, 'perk0Var3': 630, 'perk1': 9111, 'perk1Var1': 223, 'perk1Var2': 180, 'perk1Var3': 0, 'perk2': 9105, 'perk2Var1': 16, 'perk2Var2': 20, 'perk2Var3': 0, 'perk3': 8014, 'perk3Var1': 137, 'perk3Var2': 0, 'perk3Var3': 0, 'perk4': 8446, 'perk4Var1': 2597, 'perk4Var2': 0, 'perk4Var3': 0, 'perk5': 8473, 'perk5Var1': 444, 'perk5Var2': 0, 'perk5Var3': 0, 'perkPrimaryStyle': 8000, 'perkSubStyle': 8400, 'statPerk0': 5008, 'statPerk1': 5008, 'statPerk2': 5002}, 'timeline': {'participantId': 7, 'creepsPerMinDeltas': {'10-20': 5.7, '0-10': 6.6}, 'xpPerMinDeltas': {'10-20': 502.7, '0-10': 479.8}, 'goldPerMinDeltas': {'10-20': 577.7, '0-10': 312.4}, 'csDiffPerMinDeltas': {'10-20': -0.10000000000000009, '0-10': -0.5000000000000004}, 'xpDiffPerMinDeltas': {'10-20': 116.69999999999999, '0-10': 47.10000000000002}, 'damageTakenPerMinDeltas': {'10-20': 624.5, '0-10': 361.1}, 'damageTakenDiffPerMinDeltas': {'10-20': -32.599999999999966, '0-10': -80.30000000000004}, 'role': 'SOLO', 'lane': 'TOP'}}, {'participantId': 8, 'teamId': 200, 'championId': 121, 'spell1Id': 11, 'spell2Id': 4, 'stats': {'participantId': 8, 'win': True, 'item0': 2422, 'item1': 3814, 'item2': 3142, 'item3': 1039, 'item4': 3134, 'item5': 0, 'item6': 3364, 'kills': 9, 'deaths': 2, 'assists': 5, 'largestKillingSpree': 6, 'largestMultiKill': 2, 'killingSprees': 2, 'longestTimeSpentLiving': 729, 'doubleKills': 2, 'tripleKills': 0, 'quadraKills': 0, 'pentaKills': 0, 'unrealKills': 0, 'totalDamageDealt': 92239, 'magicDamageDealt': 5632, 'physicalDamageDealt': 78384, 'trueDamageDealt': 8222, 'largestCriticalStrike': 0, 'totalDamageDealtToChampions': 11734, 'magicDamageDealtToChampions': 1129, 'physicalDamageDealtToChampions': 10458, 'trueDamageDealtToChampions': 146, 'totalHeal': 11990, 'totalUnitsHealed': 1, 'damageSelfMitigated': 8920, 'damageDealtToObjectives': 14725, 'damageDealtToTurrets': 263, 'visionScore': 19, 'timeCCingOthers': 5, 'totalDamageTaken': 18469, 'magicalDamageTaken': 5443, 'physicalDamageTaken': 12688, 'trueDamageTaken': 337, 'goldEarned': 8560, 'goldSpent': 7650, 'turretKills': 0, 'inhibitorKills': 0, 'totalMinionsKilled': 6, 'neutralMinionsKilled': 100, 'neutralMinionsKilledTeamJungle': 69, 'neutralMinionsKilledEnemyJungle': 9, 'totalTimeCrowdControlDealt': 92, 'champLevel': 12, 'visionWardsBoughtInGame': 2, 'sightWardsBoughtInGame': 0, 'wardsPlaced': 3, 'wardsKilled': 2, 'firstBloodKill': True, 'firstBloodAssist': False, 'firstTowerKill': False, 'firstTowerAssist': False, 'combatPlayerScore': 0, 'objectivePlayerScore': 0, 'totalPlayerScore': 0, 'totalScoreRank': 0, 'playerScore0': 0, 'playerScore1': 0, 'playerScore2': 0, 'playerScore3': 0, 'playerScore4': 0, 'playerScore5': 0, 'playerScore6': 0, 'playerScore7': 0, 'playerScore8': 0, 'playerScore9': 0, 'perk0': 8112, 'perk0Var1': 785, 'perk0Var2': 0, 'perk0Var3': 0, 'perk1': 8143, 'perk1Var1': 343, 'perk1Var2': 0, 'perk1Var3': 0, 'perk2': 8138, 'perk2Var1': 18, 'perk2Var2': 0, 'perk2Var3': 0, 'perk3': 8135, 'perk3Var1': 3654, 'perk3Var2': 5, 'perk3Var3': 0, 'perk4': 8304, 'perk4Var1': 9, 'perk4Var2': 4, 'perk4Var3': 5, 'perk5': 8347, 'perk5Var1': 0, 'perk5Var2': 0, 'perk5Var3': 0, 'perkPrimaryStyle': 8100, 'perkSubStyle': 8300, 'statPerk0': 5005, 'statPerk1': 5008, 'statPerk2': 5002}, 'timeline': {'participantId': 8, 'creepsPerMinDeltas': {'10-20': 0.4, '0-10': 0.2}, 'xpPerMinDeltas': {'10-20': 497.5, '0-10': 352.9}, 'goldPerMinDeltas': {'10-20': 463.3, '0-10': 311.8}, 'csDiffPerMinDeltas': {'10-20': -1.5, '0-10': 0.1}, 'xpDiffPerMinDeltas': {'10-20': -20.799999999999983, '0-10': 113.30000000000001}, 'damageTakenPerMinDeltas': {'10-20': 1086.2, '0-10': 746.6}, 'damageTakenDiffPerMinDeltas': {'10-20': 314.5, '0-10': 148.8}, 'role': 'NONE', 'lane': 'JUNGLE'}}, {'participantId': 9, 'teamId': 200, 'championId': 161, 'spell1Id': 14, 'spell2Id': 4, 'stats': {'participantId': 9, 'win': True, 'item0': 1004, 'item1': 3285, 'item2': 3020, 'item3': 0, 'item4': 3098, 'item5': 0, 'item6': 3364, 'kills': 3, 'deaths': 1, 'assists': 10, 'largestKillingSpree': 3, 'largestMultiKill': 1, 'killingSprees': 1, 'longestTimeSpentLiving': 367, 'doubleKills': 0, 'tripleKills': 0, 'quadraKills': 0, 'pentaKills': 0, 'unrealKills': 0, 'totalDamageDealt': 31896, 'magicDamageDealt': 24614, 'physicalDamageDealt': 2330, 'trueDamageDealt': 4951, 'largestCriticalStrike': 0, 'totalDamageDealtToChampions': 7947, 'magicDamageDealtToChampions': 6094, 'physicalDamageDealtToChampions': 247, 'trueDamageDealtToChampions': 1605, 'totalHeal': 1522, 'totalUnitsHealed': 1, 'damageSelfMitigated': 2202, 'damageDealtToObjectives': 4697, 'damageDealtToTurrets': 1665, 'visionScore': 28, 'timeCCingOthers': 13, 'totalDamageTaken': 5479, 'magicalDamageTaken': 2426, 'physicalDamageTaken': 3053, 'trueDamageTaken': 0, 'goldEarned': 6882, 'goldSpent': 5750, 'turretKills': 1, 'inhibitorKills': 0, 'totalMinionsKilled': 19, 'neutralMinionsKilled': 0, 'neutralMinionsKilledTeamJungle': 0, 'neutralMinionsKilledEnemyJungle': 0, 'totalTimeCrowdControlDealt': 119, 'champLevel': 11, 'visionWardsBoughtInGame': 4, 'sightWardsBoughtInGame': 0, 'wardsPlaced': 15, 'wardsKilled': 2, 'firstBloodKill': False, 'firstBloodAssist': False, 'firstTowerKill': False, 'firstTowerAssist': False, 'combatPlayerScore': 0, 'objectivePlayerScore': 0, 'totalPlayerScore': 0, 'totalScoreRank': 0, 'playerScore0': 0, 'playerScore1': 0, 'playerScore2': 0, 'playerScore3': 0, 'playerScore4': 0, 'playerScore5': 0, 'playerScore6': 0, 'playerScore7': 0, 'playerScore8': 0, 'playerScore9': 0, 'perk0': 8112, 'perk0Var1': 361, 'perk0Var2': 0, 'perk0Var3': 0, 'perk1': 8126, 'perk1Var1': 225, 'perk1Var2': 0, 'perk1Var3': 0, 'perk2': 8120, 'perk2Var1': 3, 'perk2Var2': 30, 'perk2Var3': 9, 'perk3': 8134, 'perk3Var1': 25, 'perk3Var2': 4, 'perk3Var3': 0, 'perk4': 8226, 'perk4Var1': 250, 'perk4Var2': 180, 'perk4Var3': 0, 'perk5': 8210, 'perk5Var1': 0, 'perk5Var2': 0, 'perk5Var3': 0, 'perkPrimaryStyle': 8100, 'perkSubStyle': 8200, 'statPerk0': 5008, 'statPerk1': 5008, 'statPerk2': 5002}, 'timeline': {'participantId': 9, 'creepsPerMinDeltas': {'10-20': 1.4, '0-10': 0.5}, 'xpPerMinDeltas': {'10-20': 454.09999999999997, '0-10': 310}, 'goldPerMinDeltas': {'10-20': 427, '0-10': 191.39999999999998}, 'damageTakenPerMinDeltas': {'10-20': 379.6, '0-10': 168.3}, 'role': 'DUO_SUPPORT', 'lane': 'BOTTOM'}}, {'participantId': 10, 'teamId': 200, 'championId': 145, 'spell1Id': 7, 'spell2Id': 4, 'stats': {'participantId': 10, 'win': True, 'item0': 2423, 'item1': 3004, 'item2': 1055, 'item3': 0, 'item4': 3006, 'item5': 3124, 'item6': 3363, 'kills': 5, 'deaths': 0, 'assists': 4, 'largestKillingSpree': 5, 'largestMultiKill': 2, 'killingSprees': 1, 'longestTimeSpentLiving': 0, 'doubleKills': 1, 'tripleKills': 0, 'quadraKills': 0, 'pentaKills': 0, 'unrealKills': 0, 'totalDamageDealt': 82615, 'magicDamageDealt': 11253, 'physicalDamageDealt': 67562, 'trueDamageDealt': 3800, 'largestCriticalStrike': 0, 'totalDamageDealtToChampions': 3602, 'magicDamageDealtToChampions': 1644, 'physicalDamageDealtToChampions': 1957, 'trueDamageDealtToChampions': 0, 'totalHeal': 2194, 'totalUnitsHealed': 3, 'damageSelfMitigated': 4034, 'damageDealtToObjectives': 16648, 'damageDealtToTurrets': 2601, 'visionScore': 9, 'timeCCingOthers': 0, 'totalDamageTaken': 7847, 'magicalDamageTaken': 2260, 'physicalDamageTaken': 5329, 'trueDamageTaken': 257, 'goldEarned': 8634, 'goldSpent': 7475, 'turretKills': 0, 'inhibitorKills': 0, 'totalMinionsKilled': 133, 'neutralMinionsKilled': 8, 'neutralMinionsKilledTeamJungle': 4, 'neutralMinionsKilledEnemyJungle': 0, 'totalTimeCrowdControlDealt': 18, 'champLevel': 12, 'visionWardsBoughtInGame': 3, 'sightWardsBoughtInGame': 0, 'wardsPlaced': 6, 'wardsKilled': 0, 'firstBloodKill': False, 'firstBloodAssist': False, 'firstTowerKill': False, 'firstTowerAssist': False, 'combatPlayerScore': 0, 'objectivePlayerScore': 0, 'totalPlayerScore': 0, 'totalScoreRank': 0, 'playerScore0': 0, 'playerScore1': 0, 'playerScore2': 0, 'playerScore3': 0, 'playerScore4': 0, 'playerScore5': 0, 'playerScore6': 0, 'playerScore7': 0, 'playerScore8': 0, 'playerScore9': 0, 'perk0': 8005, 'perk0Var1': 176, 'perk0Var2': 75, 'perk0Var3': 100, 'perk1': 9111, 'perk1Var1': 482, 'perk1Var2': 180, 'perk1Var3': 0, 'perk2': 9103, 'perk2Var1': 0, 'perk2Var2': 0, 'perk2Var3': 0, 'perk3': 8014, 'perk3Var1': 102, 'perk3Var2': 0, 'perk3Var3': 0, 'perk4': 8345, 'perk4Var1': 3, 'perk4Var2': 0, 'perk4Var3': 0, 'perk5': 8313, 'perk5Var1': 0, 'perk5Var2': 0, 'perk5Var3': 0, 'perkPrimaryStyle': 8000, 'perkSubStyle': 8300, 'statPerk0': 5005, 'statPerk1': 5008, 'statPerk2': 5002}, 'timeline': {'participantId': 10, 'creepsPerMinDeltas': {'10-20': 7.9, '0-10': 5.4}, 'xpPerMinDeltas': {'10-20': 568.2, '0-10': 319.1}, 'goldPerMinDeltas': {'10-20': 519.7, '0-10': 280.4}, 'damageTakenPerMinDeltas': {'10-20': 585.3, '0-10': 199.4}, 'role': 'DUO_CARRY', 'lane': 'BOTTOM'}}], 'participantIdentities': [{'participantId': 1, 'player': {'platformId': 'EUW1', 'accountId': 'hgEMLv1Se7ivgjopvVuHTcAL1ICG4e6cZI-d2K38noe8UA', 'summonerName': 'lukapuka21', 'summonerId': '0TjOgbq62qC55_Y-vmYAdc1LnFTBj21m8nnv43Gbu0mq0Ic', 'currentPlatformId': 'EUW1', 'currentAccountId': 'hgEMLv1Se7ivgjopvVuHTcAL1ICG4e6cZI-d2K38noe8UA', 'matchHistoryUri': '/v1/stats/player_history/EUW1/41027558', 'profileIcon': 657}}, {'participantId': 2, 'player': {'platformId': 'EUW1', 'accountId': 'RAgV3ugCFwomLFUwXU3vXRqAC8EstL2ixNcgBV_wK56PxOY', 'summonerName': 'Veg4', 'summonerId': 'pyDyuy-X58reDXdcwJ-75Ftc36195SxrJ-3Daq3XRHs99fw', 'currentPlatformId': 'EUW1', 'currentAccountId': 'RAgV3ugCFwomLFUwXU3vXRqAC8EstL2ixNcgBV_wK56PxOY', 'matchHistoryUri': '/v1/stats/player_history/EUW1/208490821', 'profileIcon': 23}}, {'participantId': 3, 'player': {'platformId': 'EUW1', 'accountId': 'tJrZTwOunsC3stPeb21GDWvG0fNrpCneuHsAHeRrp1HLfB4', 'summonerName': 'Thivelt', 'summonerId': 'F2_S8CmlJgMTPhiusVQbtdO9p2sXl6ohRKcpqn9BUr1uY5c', 'currentPlatformId': 'EUW1', 'currentAccountId': 'tJrZTwOunsC3stPeb21GDWvG0fNrpCneuHsAHeRrp1HLfB4', 'matchHistoryUri': '/v1/stats/player_history/EUW1/222028811', 'profileIcon': 1665}}, {'participantId': 4, 'player': {'platformId': 'EUW1', 'accountId': 'Z9U9K4QyKrholcHFXlxIMjtdLX6I6Nx6seoawT0B8IoazGW_q9vLjG_O', 'summonerName': 'Towards Katarina', 'summonerId': 'FSimL6Sqp6P9rwqMNj4KlN5BKB6o91dcs7DBa61ACDtCXQyf', 'currentPlatformId': 'EUW1', 'currentAccountId': 'Z9U9K4QyKrholcHFXlxIMjtdLX6I6Nx6seoawT0B8IoazGW_q9vLjG_O', 'matchHistoryUri': '/v1/stats/player_history/EUW1/2293567720551008', 'profileIcon': 4378}}, {'participantId': 5, 'player': {'platformId': 'EUW1', 'accountId': 'kaQeBHQlMptX87L9J9I5hMeONMlPlrBnXEwYZwgITbCaNkI', 'summonerName': 'Swifty95', 'summonerId': 'otIeMqjMobKPHHNj3h7t3_Vprra7-a13wzHp-pTM2bme_bmp', 'currentPlatformId': 'EUW1', 'currentAccountId': 'kaQeBHQlMptX87L9J9I5hMeONMlPlrBnXEwYZwgITbCaNkI', 'matchHistoryUri': '/v1/stats/player_history/EUW1/240790768', 'profileIcon': 1298}}, {'participantId': 6, 'player': {'platformId': 'EUW1', 'accountId': '7Ms4UHDFZE9D5Rt7WEX6rJoKBzMk3wGDAXq2SGRNfQ', 'summonerName': 'Remlan', 'summonerId': 'oqi8y3sOgiLF5LqShAV-iH0a-2V3oO_rp7LhLF1MANI', 'currentPlatformId': 'EUW1', 'currentAccountId': '7Ms4UHDFZE9D5Rt7WEX6rJoKBzMk3wGDAXq2SGRNfQ', 'matchHistoryUri': '/v1/stats/player_history/EUW1/71981', 'profileIcon': 4380}}, {'participantId': 7, 'player': {'platformId': 'EUW1', 'accountId': 'vzmxl_XXMvZ_yFon2AlfAWTgGBueClWk090RJ0Q6_VBiSw', 'summonerName': 'Ginjou', 'summonerId': 'xBQKiFss_3tYWtLj5MyQB4tNhACpNaXadDrWDBrahUZnTgs', 'currentPlatformId': 'EUW1', 'currentAccountId': 'vzmxl_XXMvZ_yFon2AlfAWTgGBueClWk090RJ0Q6_VBiSw', 'matchHistoryUri': '/v1/stats/player_history/EUW1/31433096', 'profileIcon': 3791}}, {'participantId': 8, 'player': {'platformId': 'EUW1', 'accountId': 'Wti3AzBiLNft7WpU5HnZ45QZH053-znMfys7Eg8FjW5jQTY', 'summonerName': 'ElmeIf', 'summonerId': '-48_qSPUz0tVuXyloCPSkgW4sK5HlnwdN0vPoVVXWlOeK2c', 'currentPlatformId': 'EUW1', 'currentAccountId': 'Wti3AzBiLNft7WpU5HnZ45QZH053-znMfys7Eg8FjW5jQTY', 'matchHistoryUri': '/v1/stats/player_history/EUW1/201871139', 'profileIcon': 3587}}, {'participantId': 9, 'player': {'platformId': 'EUW1', 'accountId': 'r1zdAz6BVMqbWsrz-_d8QYdstOb_cOaSzUbdaxj90JJ8dLQ', 'summonerName': 'My Thresh Sucks', 'summonerId': 'QGetDSGq_d3mS9A0eiGq0F_E_0Vhk7mzOF8ZcDKJSOOHjD8', 'currentPlatformId': 'EUW1', 'currentAccountId': 'r1zdAz6BVMqbWsrz-_d8QYdstOb_cOaSzUbdaxj90JJ8dLQ', 'matchHistoryUri': '/v1/stats/player_history/EUW1/204885487', 'profileIcon': 3368}}, {'participantId': 10, 'player': {'platformId': 'EUW1', 'accountId': 'fu8mf72LLFzU8KaWRi1wqfG-aXdgciOI3r6QahHZItsY7UQ', 'summonerName': 'creschorba', 'summonerId': 'Le8s70bPuhIfrTbQldP2d3-uSpGJ2m9Fyxuc-v-ZAQgoKRc', 'currentPlatformId': 'EUW1', 'currentAccountId': 'fu8mf72LLFzU8KaWRi1wqfG-aXdgciOI3r6QahHZItsY7UQ', 'matchHistoryUri': '/v1/stats/player_history/EUW1/222704147', 'profileIcon': 1112}}]}\n"
     ]
    }
   ],
   "source": [
    "match_id = '4241678498'\n",
    "response = requests.get(\"https://euw1.api.riotgames.com/lol/match/v4/matches/{}?api_key={}\".format(match_id, key)) \n",
    "match = response.json()\n",
    "print(match)"
   ]
  },
  {
   "cell_type": "markdown",
   "metadata": {},
   "source": [
    "Wow. Mặc dù đây chỉ là một trận đấu nhưng lượng dữ liệu trả về thật không lồ. Chắc chắn rằng trong số feature này, có rất nhiều thông tin mà chúng ta không cần tới. Với sự am hiểu khá rõ về Leagued of leagend, nhóm tác giả đã quyết định chọn lựa ra 48 thông tin quan trọng nhất với một trận đấu.\n",
    "\n",
    "Wow. Although this is just a match, the amount of data returned is immense. Certainly among these features, there's a lot of information we don't need. With a good understanding of Leagued of legend, the team decided to select the 48 most important information for a match.\n",
    "\n",
    "\n",
    "General information about the match includes:\n",
    "\n",
    "And player information such as:\n",
    "\n",
    "The new problem we have here is that the return information is in the form:\n",
    "\n",
    "```\n",
    "{ 'match_id' : int,\n",
    "\n",
    "   'player1' : list of indvidual information,\n",
    "   \n",
    "    player2' : list of indvidual information,\n",
    "    \n",
    "    player3' : list of indvidual information,\n",
    "    .\n",
    "    .\n",
    "    .\n",
    "}\n",
    "```\n",
    "\n",
    "Like football, league of legends is a team game. So it doesn't make much sense if we analyze different players. A player cannot make a big impact on the outcome of a match. So we will focus on performance analysis of the entire team. Therefore, information of 10 players needs to be combined and divided into 2 teams, blue and red.\n"
   ]
  },
  {
   "cell_type": "code",
   "execution_count": 8,
   "metadata": {},
   "outputs": [
    {
     "name": "stdout",
     "output_type": "stream",
     "text": [
      "{'gameId': [4241678498], 'gameDuration': [1216], 'blueWin': [0], 'blueWardsplaced': [27], 'blueWardskilled': [8], 'blueDeaths': [27], 'blueKills': [9], 'blueAssists': [5], 'blueTotaldamagedealttochampions': [29450], 'blueGoldearned': [30168], 'blueTotalminionskilled': [401], 'blueChamplevel': [53], 'blueNeutralminionskilled': [94], 'blueKillingsprees': [1], 'blueTotalheal': [7680], 'blueDamagedealttoobjectives': [8720], 'redWin': [1], 'redWardsplaced': [43], 'redWardskilled': [10], 'redDeaths': [9], 'redKills': [27], 'redAssists': [27], 'redTotaldamagedealttochampions': [45074], 'redGoldearned': [43623], 'redTotalminionskilled': [429], 'redChamplevel': [60], 'redNeutralminionskilled': [128], 'redKillingsprees': [6], 'redTotalheal': [21713], 'redDamagedealttoobjectives': [51909], 'blueFirstbaron': [0], 'blueFirstblood': [0], 'blueFirsttower': [0], 'blueFirstinhibitor': [0], 'blueInhibitorkills': [0], 'blueDragonkills': [0], 'blueTowerkills': [0], 'blueFirstdragon': [0], 'blueBaronkills': [0], 'redFirstbaron': [0], 'redFirstblood': [1], 'redFirsttower': [1], 'redFirstinhibitor': [0], 'redInhibitorkills': [0], 'redDragonkills': [2], 'redTowerkills': [7], 'redFirstdragon': [1], 'redBaronkills': [0]}\n"
     ]
    }
   ],
   "source": [
    "clean_data = {}\n",
    "\n",
    "\n",
    "# General data, these data do not belong to anyteam.\n",
    "clean_data['gameId'] = [match['gameId']]\n",
    "clean_data['gameDuration'] = [match['gameDuration']]\n",
    "\n",
    "\n",
    "\n",
    "# Feature you want from match['participants']['stats']\n",
    "wanted_data = ['win', 'wardsPlaced', 'wardsKilled', 'deaths', 'kills',\n",
    "               'assists', 'totalDamageDealtToChampions', 'goldEarned', 'totalMinionsKilled',\n",
    "               'champLevel', 'neutralMinionsKilled','killingSprees', \n",
    "               'totalHeal', 'damageDealtToObjectives'] \n",
    "for player in match['participants']:\n",
    "    # Determent which team this player belongs:\n",
    "    if player['teamId'] == 100:\n",
    "        team_name = 'blue'\n",
    "    else: team_name = 'red'\n",
    "    \n",
    "    for i in wanted_data:\n",
    "        name = team_name + i.capitalize() # set name for clean_data dict\n",
    "        if name not in clean_data:\n",
    "            clean_data[name] = [0]\n",
    "        if type(player['stats'][i]) is bool:\n",
    "            clean_data[name][0] = int(player['stats'][i])\n",
    "        else:\n",
    "            clean_data[name][0] += player['stats'][i]\n",
    "\n",
    "            \n",
    "# Feature you want from match['participants']['teams']\n",
    "wanted_data = ['firstBaron', 'firstBlood', 'firstTower', 'firstInhibitor', 'inhibitorKills', 'dragonKills',\n",
    "              'towerKills', 'firstDragon', 'baronKills']           \n",
    "for team in match['teams']:\n",
    "    # Determent which team:\n",
    "    if team['teamId'] == 100:\n",
    "        team_name = 'blue'\n",
    "    else: team_name = 'red'\n",
    "    \n",
    "    for i in wanted_data:\n",
    "        name = team_name + i.capitalize() # set name for clean_data dict\n",
    "        if name not in clean_data:\n",
    "            clean_data[name] = [0]\n",
    "        if type(team[str(i)]) is bool:\n",
    "            clean_data[name][0] = int(team[str(i)])\n",
    "        else:\n",
    "            clean_data[name][0] += int(team[str(i)])\n",
    "    \n",
    "print(clean_data)"
   ]
  },
  {
   "cell_type": "markdown",
   "metadata": {},
   "source": [
    "All selected attributes can be written to the wanted_data list as above. And the scrip will select and classify each data itself. Finally we have a dictionary that looks pretty clean. Try converting into dataframe"
   ]
  },
  {
   "cell_type": "code",
   "execution_count": 9,
   "metadata": {},
   "outputs": [
    {
     "data": {
      "text/html": [
       "<div>\n",
       "<style scoped>\n",
       "    .dataframe tbody tr th:only-of-type {\n",
       "        vertical-align: middle;\n",
       "    }\n",
       "\n",
       "    .dataframe tbody tr th {\n",
       "        vertical-align: top;\n",
       "    }\n",
       "\n",
       "    .dataframe thead th {\n",
       "        text-align: right;\n",
       "    }\n",
       "</style>\n",
       "<table border=\"1\" class=\"dataframe\">\n",
       "  <thead>\n",
       "    <tr style=\"text-align: right;\">\n",
       "      <th></th>\n",
       "      <th>gameId</th>\n",
       "      <th>gameDuration</th>\n",
       "      <th>blueWin</th>\n",
       "      <th>blueWardsplaced</th>\n",
       "      <th>blueWardskilled</th>\n",
       "      <th>blueDeaths</th>\n",
       "      <th>blueKills</th>\n",
       "      <th>blueAssists</th>\n",
       "      <th>blueTotaldamagedealttochampions</th>\n",
       "      <th>blueGoldearned</th>\n",
       "      <th>...</th>\n",
       "      <th>blueBaronkills</th>\n",
       "      <th>redFirstbaron</th>\n",
       "      <th>redFirstblood</th>\n",
       "      <th>redFirsttower</th>\n",
       "      <th>redFirstinhibitor</th>\n",
       "      <th>redInhibitorkills</th>\n",
       "      <th>redDragonkills</th>\n",
       "      <th>redTowerkills</th>\n",
       "      <th>redFirstdragon</th>\n",
       "      <th>redBaronkills</th>\n",
       "    </tr>\n",
       "  </thead>\n",
       "  <tbody>\n",
       "    <tr>\n",
       "      <th>0</th>\n",
       "      <td>4241678498</td>\n",
       "      <td>1216</td>\n",
       "      <td>0</td>\n",
       "      <td>27</td>\n",
       "      <td>8</td>\n",
       "      <td>27</td>\n",
       "      <td>9</td>\n",
       "      <td>5</td>\n",
       "      <td>29450</td>\n",
       "      <td>30168</td>\n",
       "      <td>...</td>\n",
       "      <td>0</td>\n",
       "      <td>0</td>\n",
       "      <td>1</td>\n",
       "      <td>1</td>\n",
       "      <td>0</td>\n",
       "      <td>0</td>\n",
       "      <td>2</td>\n",
       "      <td>7</td>\n",
       "      <td>1</td>\n",
       "      <td>0</td>\n",
       "    </tr>\n",
       "  </tbody>\n",
       "</table>\n",
       "<p>1 rows × 48 columns</p>\n",
       "</div>"
      ],
      "text/plain": [
       "       gameId  gameDuration  blueWin  blueWardsplaced  blueWardskilled  \\\n",
       "0  4241678498          1216        0               27                8   \n",
       "\n",
       "   blueDeaths  blueKills  blueAssists  blueTotaldamagedealttochampions  \\\n",
       "0          27          9            5                            29450   \n",
       "\n",
       "   blueGoldearned  ...  blueBaronkills  redFirstbaron  redFirstblood  \\\n",
       "0           30168  ...               0              0              1   \n",
       "\n",
       "   redFirsttower  redFirstinhibitor  redInhibitorkills  redDragonkills  \\\n",
       "0              1                  0                  0               2   \n",
       "\n",
       "   redTowerkills  redFirstdragon  redBaronkills  \n",
       "0              7               1              0  \n",
       "\n",
       "[1 rows x 48 columns]"
      ]
     },
     "metadata": {},
     "output_type": "display_data"
    }
   ],
   "source": [
    "df = pd.DataFrame.from_dict(clean_data)\n",
    "display(df)"
   ]
  },
  {
   "cell_type": "markdown",
   "metadata": {},
   "source": [
    "Great. So we have successfully used the riot api and converted the data to a dataframe. The only thing left to create a complete database is just to put everything in the loop and wait for the results."
   ]
  }
 ],
 "metadata": {
  "kernelspec": {
   "display_name": "Python 3",
   "language": "python",
   "name": "python3"
  },
  "language_info": {
   "codemirror_mode": {
    "name": "ipython",
    "version": 3
   },
   "file_extension": ".py",
   "mimetype": "text/x-python",
   "name": "python",
   "nbconvert_exporter": "python",
   "pygments_lexer": "ipython3",
   "version": "3.7.7"
  }
 },
 "nbformat": 4,
 "nbformat_minor": 4
}
